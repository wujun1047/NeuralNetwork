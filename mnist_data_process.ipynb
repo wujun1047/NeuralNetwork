{
 "cells": [
  {
   "cell_type": "code",
   "execution_count": 1,
   "metadata": {},
   "outputs": [],
   "source": [
    "def ReadLinesAndSave(in_file, out_file, lines):\n",
    "    i = open(in_file, 'r')\n",
    "    o = open(out_file, 'w')\n",
    "    count = 0\n",
    "    for line in i:\n",
    "        if (count < lines):\n",
    "            count += 1\n",
    "            o.writelines(line)\n",
    "    i.close()\n",
    "    o.close()"
   ]
  },
  {
   "cell_type": "code",
   "execution_count": 2,
   "metadata": {},
   "outputs": [],
   "source": [
    "ReadLinesAndSave('mnist_test.csv', 'mnist_test_10.csv', 10)\n",
    "ReadLinesAndSave('mnist_train.csv', 'mnist_train_100.csv', 100)"
   ]
  },
  {
   "cell_type": "code",
   "execution_count": null,
   "metadata": {},
   "outputs": [],
   "source": []
  }
 ],
 "metadata": {
  "kernelspec": {
   "display_name": "Python 3",
   "language": "python",
   "name": "python3"
  },
  "language_info": {
   "codemirror_mode": {
    "name": "ipython",
    "version": 3
   },
   "file_extension": ".py",
   "mimetype": "text/x-python",
   "name": "python",
   "nbconvert_exporter": "python",
   "pygments_lexer": "ipython3",
   "version": "3.7.5"
  }
 },
 "nbformat": 4,
 "nbformat_minor": 2
}
